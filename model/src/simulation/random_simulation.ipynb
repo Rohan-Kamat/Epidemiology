{
 "cells": [
  {
   "cell_type": "code",
   "execution_count": 1,
   "metadata": {},
   "outputs": [],
   "source": [
    "import pandas as pd\n",
    "import sys"
   ]
  },
  {
   "cell_type": "code",
   "execution_count": 2,
   "metadata": {},
   "outputs": [],
   "source": [
    "sys.path.append('../')\n"
   ]
  },
  {
   "cell_type": "code",
   "execution_count": 3,
   "metadata": {},
   "outputs": [],
   "source": [
    "# From random_strategy import vaccination_strategy\n",
    "from utils import SIR, run\n",
    "from vaccination_strategy.random_strategy import vaccination_strategy"
   ]
  },
  {
   "cell_type": "code",
   "execution_count": 4,
   "metadata": {},
   "outputs": [],
   "source": [
    "metadata = pd.read_csv('../dataset/metadata.csv', sep='\\t', lineterminator='\\n', names=['ID', 'Class', 'Sex'])\n",
    "df = pd.read_csv('../dataset/contact_network.csv')"
   ]
  },
  {
   "cell_type": "code",
   "execution_count": 5,
   "metadata": {},
   "outputs": [
    {
     "data": {
      "text/html": [
       "<div>\n",
       "<style scoped>\n",
       "    .dataframe tbody tr th:only-of-type {\n",
       "        vertical-align: middle;\n",
       "    }\n",
       "\n",
       "    .dataframe tbody tr th {\n",
       "        vertical-align: top;\n",
       "    }\n",
       "\n",
       "    .dataframe thead th {\n",
       "        text-align: right;\n",
       "    }\n",
       "</style>\n",
       "<table border=\"1\" class=\"dataframe\">\n",
       "  <thead>\n",
       "    <tr style=\"text-align: right;\">\n",
       "      <th></th>\n",
       "      <th>Time</th>\n",
       "      <th>Person 1</th>\n",
       "      <th>Person 2</th>\n",
       "      <th>Class1</th>\n",
       "      <th>Class2</th>\n",
       "    </tr>\n",
       "  </thead>\n",
       "  <tbody>\n",
       "    <tr>\n",
       "      <th>0</th>\n",
       "      <td>31220</td>\n",
       "      <td>1558</td>\n",
       "      <td>1567</td>\n",
       "      <td>3B</td>\n",
       "      <td>3B</td>\n",
       "    </tr>\n",
       "    <tr>\n",
       "      <th>1</th>\n",
       "      <td>31220</td>\n",
       "      <td>1560</td>\n",
       "      <td>1570</td>\n",
       "      <td>3B</td>\n",
       "      <td>3B</td>\n",
       "    </tr>\n",
       "    <tr>\n",
       "      <th>2</th>\n",
       "      <td>31220</td>\n",
       "      <td>1567</td>\n",
       "      <td>1574</td>\n",
       "      <td>3B</td>\n",
       "      <td>3B</td>\n",
       "    </tr>\n",
       "    <tr>\n",
       "      <th>3</th>\n",
       "      <td>31220</td>\n",
       "      <td>1632</td>\n",
       "      <td>1818</td>\n",
       "      <td>4B</td>\n",
       "      <td>4B</td>\n",
       "    </tr>\n",
       "    <tr>\n",
       "      <th>4</th>\n",
       "      <td>31220</td>\n",
       "      <td>1632</td>\n",
       "      <td>1866</td>\n",
       "      <td>4B</td>\n",
       "      <td>4B</td>\n",
       "    </tr>\n",
       "  </tbody>\n",
       "</table>\n",
       "</div>"
      ],
      "text/plain": [
       "    Time  Person 1  Person 2 Class1  Class2\n",
       "0  31220      1558      1567      3B     3B\n",
       "1  31220      1560      1570      3B     3B\n",
       "2  31220      1567      1574      3B     3B\n",
       "3  31220      1632      1818      4B     4B\n",
       "4  31220      1632      1866      4B     4B"
      ]
     },
     "execution_count": 5,
     "metadata": {},
     "output_type": "execute_result"
    }
   ],
   "source": [
    "df.head()"
   ]
  },
  {
   "cell_type": "code",
   "execution_count": 6,
   "metadata": {},
   "outputs": [],
   "source": [
    "model = SIR(\n",
    "    metadata=metadata,\n",
    "    df=df\n",
    ")"
   ]
  },
  {
   "cell_type": "code",
   "execution_count": 7,
   "metadata": {},
   "outputs": [],
   "source": [
    "vaccinated = vaccination_strategy(model)"
   ]
  },
  {
   "cell_type": "code",
   "execution_count": 8,
   "metadata": {},
   "outputs": [
    {
     "name": "stdout",
     "output_type": "stream",
     "text": [
      "At day 0\n",
      "Number of susceptible:  230\n",
      "Number of infected:  12\n",
      "Number of recovered:  0\n",
      "Number of deceased:  0\n",
      "After Day  1\n",
      "Number of susceptible:  186\n",
      "Number of infected:  51\n",
      "Number of recovered:  3\n",
      "Number of deceased:  2\n",
      "After Day  2\n",
      "Number of susceptible:  92\n",
      "Number of infected:  124\n",
      "Number of recovered:  18\n",
      "Number of deceased:  8\n",
      "After Day  3\n",
      "Number of susceptible:  56\n",
      "Number of infected:  117\n",
      "Number of recovered:  55\n",
      "Number of deceased:  14\n",
      "After Day  4\n",
      "Number of susceptible:  13\n",
      "Number of infected:  119\n",
      "Number of recovered:  90\n",
      "Number of deceased:  20\n",
      "After Day  5\n",
      "Number of susceptible:  7\n",
      "Number of infected:  74\n",
      "Number of recovered:  137\n",
      "Number of deceased:  24\n",
      "After Day  6\n",
      "Number of susceptible:  7\n",
      "Number of infected:  50\n",
      "Number of recovered:  159\n",
      "Number of deceased:  26\n",
      "After Day  7\n",
      "Number of susceptible:  7\n",
      "Number of infected:  34\n",
      "Number of recovered:  174\n",
      "Number of deceased:  27\n",
      "After Day  8\n",
      "Number of susceptible:  7\n",
      "Number of infected:  23\n",
      "Number of recovered:  184\n",
      "Number of deceased:  28\n",
      "After Day  9\n",
      "Number of susceptible:  6\n",
      "Number of infected:  18\n",
      "Number of recovered:  190\n",
      "Number of deceased:  28\n",
      "After Day  10\n",
      "Number of susceptible:  6\n",
      "Number of infected:  13\n",
      "Number of recovered:  195\n",
      "Number of deceased:  28\n",
      "After Day  11\n",
      "Number of susceptible:  6\n",
      "Number of infected:  10\n",
      "Number of recovered:  198\n",
      "Number of deceased:  28\n",
      "After Day  12\n",
      "Number of susceptible:  6\n",
      "Number of infected:  7\n",
      "Number of recovered:  201\n",
      "Number of deceased:  28\n",
      "After Day  13\n",
      "Number of susceptible:  6\n",
      "Number of infected:  5\n",
      "Number of recovered:  203\n",
      "Number of deceased:  28\n",
      "After Day  14\n",
      "Number of susceptible:  6\n",
      "Number of infected:  4\n",
      "Number of recovered:  204\n",
      "Number of deceased:  28\n",
      "After Day  15\n",
      "Number of susceptible:  6\n",
      "Number of infected:  3\n",
      "Number of recovered:  205\n",
      "Number of deceased:  28\n",
      "After Day  16\n",
      "Number of susceptible:  6\n",
      "Number of infected:  3\n",
      "Number of recovered:  205\n",
      "Number of deceased:  28\n",
      "After Day  17\n",
      "Number of susceptible:  6\n",
      "Number of infected:  3\n",
      "Number of recovered:  205\n",
      "Number of deceased:  28\n",
      "After Day  18\n",
      "Number of susceptible:  6\n",
      "Number of infected:  3\n",
      "Number of recovered:  205\n",
      "Number of deceased:  28\n",
      "After Day  19\n",
      "Number of susceptible:  6\n",
      "Number of infected:  3\n",
      "Number of recovered:  205\n",
      "Number of deceased:  28\n",
      "After Day  20\n",
      "Number of susceptible:  6\n",
      "Number of infected:  3\n",
      "Number of recovered:  205\n",
      "Number of deceased:  28\n",
      "After Day  21\n",
      "Number of susceptible:  6\n",
      "Number of infected:  3\n",
      "Number of recovered:  205\n",
      "Number of deceased:  28\n",
      "After Day  22\n",
      "Number of susceptible:  5\n",
      "Number of infected:  4\n",
      "Number of recovered:  205\n",
      "Number of deceased:  28\n",
      "After Day  23\n",
      "Number of susceptible:  5\n",
      "Number of infected:  3\n",
      "Number of recovered:  206\n",
      "Number of deceased:  28\n",
      "After Day  24\n",
      "Number of susceptible:  5\n",
      "Number of infected:  3\n",
      "Number of recovered:  206\n",
      "Number of deceased:  28\n",
      "After Day  25\n",
      "Number of susceptible:  5\n",
      "Number of infected:  3\n",
      "Number of recovered:  206\n",
      "Number of deceased:  28\n",
      "After Day  26\n",
      "Number of susceptible:  5\n",
      "Number of infected:  3\n",
      "Number of recovered:  206\n",
      "Number of deceased:  28\n",
      "After Day  27\n",
      "Number of susceptible:  5\n",
      "Number of infected:  3\n",
      "Number of recovered:  206\n",
      "Number of deceased:  28\n",
      "After Day  28\n",
      "Number of susceptible:  4\n",
      "Number of infected:  4\n",
      "Number of recovered:  206\n",
      "Number of deceased:  28\n",
      "After Day  29\n",
      "Number of susceptible:  4\n",
      "Number of infected:  3\n",
      "Number of recovered:  207\n",
      "Number of deceased:  28\n",
      "After Day  30\n",
      "Number of susceptible:  4\n",
      "Number of infected:  3\n",
      "Number of recovered:  207\n",
      "Number of deceased:  28\n",
      "{'metrics': {'total_deaths': 28, 'peak_infections': 124}}\n"
     ]
    },
    {
     "data": {
      "text/plain": [
       "{'metrics': {'total_deaths': 28, 'peak_infections': 124}}"
      ]
     },
     "execution_count": 8,
     "metadata": {},
     "output_type": "execute_result"
    },
    {
     "data": {
      "image/png": "[encoded data removed]",
      "text/plain": [
       "<Figure size 432x288 with 1 Axes>"
      ]
     },
     "metadata": {
      "needs_background": "light"
     },
     "output_type": "display_data"
    }
   ],
   "source": [
    "run(model,vaccinated,5)"
   ]
  },
  {
   "cell_type": "code",
   "execution_count": null,
   "metadata": {},
   "outputs": [],
   "source": []
  }
 ],
 "metadata": {
  "kernelspec": {
   "display_name": "Python 3",
   "language": "python",
   "name": "python3"
  },
  "language_info": {
   "codemirror_mode": {
    "name": "ipython",
    "version": 3
   },
   "file_extension": ".py",
   "mimetype": "text/x-python",
   "name": "python",
   "nbconvert_exporter": "python",
   "pygments_lexer": "ipython3",
   "version": "3.8.5"
  }
 },
 "nbformat": 4,
 "nbformat_minor": 4
}
