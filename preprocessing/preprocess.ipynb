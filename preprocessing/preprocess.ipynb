{
 "cells": [
  {
   "cell_type": "code",
   "execution_count": 1,
   "id": "express-dairy",
   "metadata": {},
   "outputs": [],
   "source": [
    "import pandas as pd\n",
    "import matplotlib.pyplot as plt\n",
    "\n",
    "from collections import defaultdict\n",
    "\n",
    "plt.rcParams['font.size'] = 14\n",
    "plt.rcParams['figure.figsize'] = (15, 5)"
   ]
  },
  {
   "cell_type": "code",
   "execution_count": 2,
   "id": "unauthorized-thunder",
   "metadata": {},
   "outputs": [],
   "source": [
    "df = pd.read_csv('old_contact_network.csv')"
   ]
  },
  {
   "cell_type": "code",
   "execution_count": 3,
   "id": "noted-madagascar",
   "metadata": {},
   "outputs": [
    {
     "data": {
      "text/html": [
       "<div>\n",
       "<style scoped>\n",
       "    .dataframe tbody tr th:only-of-type {\n",
       "        vertical-align: middle;\n",
       "    }\n",
       "\n",
       "    .dataframe tbody tr th {\n",
       "        vertical-align: top;\n",
       "    }\n",
       "\n",
       "    .dataframe thead th {\n",
       "        text-align: right;\n",
       "    }\n",
       "</style>\n",
       "<table border=\"1\" class=\"dataframe\">\n",
       "  <thead>\n",
       "    <tr style=\"text-align: right;\">\n",
       "      <th></th>\n",
       "      <th>Time</th>\n",
       "      <th>Person 1</th>\n",
       "      <th>Person 2</th>\n",
       "      <th>Class1</th>\n",
       "      <th>Class2</th>\n",
       "    </tr>\n",
       "  </thead>\n",
       "  <tbody>\n",
       "    <tr>\n",
       "      <th>0</th>\n",
       "      <td>31220</td>\n",
       "      <td>1558</td>\n",
       "      <td>1567</td>\n",
       "      <td>3B</td>\n",
       "      <td>3B</td>\n",
       "    </tr>\n",
       "    <tr>\n",
       "      <th>1</th>\n",
       "      <td>31220</td>\n",
       "      <td>1560</td>\n",
       "      <td>1570</td>\n",
       "      <td>3B</td>\n",
       "      <td>3B</td>\n",
       "    </tr>\n",
       "    <tr>\n",
       "      <th>2</th>\n",
       "      <td>31220</td>\n",
       "      <td>1567</td>\n",
       "      <td>1574</td>\n",
       "      <td>3B</td>\n",
       "      <td>3B</td>\n",
       "    </tr>\n",
       "    <tr>\n",
       "      <th>3</th>\n",
       "      <td>31220</td>\n",
       "      <td>1632</td>\n",
       "      <td>1818</td>\n",
       "      <td>4B</td>\n",
       "      <td>4B</td>\n",
       "    </tr>\n",
       "    <tr>\n",
       "      <th>4</th>\n",
       "      <td>31220</td>\n",
       "      <td>1632</td>\n",
       "      <td>1866</td>\n",
       "      <td>4B</td>\n",
       "      <td>4B</td>\n",
       "    </tr>\n",
       "    <tr>\n",
       "      <th>...</th>\n",
       "      <td>...</td>\n",
       "      <td>...</td>\n",
       "      <td>...</td>\n",
       "      <td>...</td>\n",
       "      <td>...</td>\n",
       "    </tr>\n",
       "    <tr>\n",
       "      <th>125768</th>\n",
       "      <td>148120</td>\n",
       "      <td>1752</td>\n",
       "      <td>1783</td>\n",
       "      <td>1A</td>\n",
       "      <td>1A</td>\n",
       "    </tr>\n",
       "    <tr>\n",
       "      <th>125769</th>\n",
       "      <td>148120</td>\n",
       "      <td>1752</td>\n",
       "      <td>1789</td>\n",
       "      <td>1A</td>\n",
       "      <td>1A</td>\n",
       "    </tr>\n",
       "    <tr>\n",
       "      <th>125770</th>\n",
       "      <td>148120</td>\n",
       "      <td>1775</td>\n",
       "      <td>1798</td>\n",
       "      <td>1A</td>\n",
       "      <td>1A</td>\n",
       "    </tr>\n",
       "    <tr>\n",
       "      <th>125771</th>\n",
       "      <td>148120</td>\n",
       "      <td>1783</td>\n",
       "      <td>1796</td>\n",
       "      <td>1A</td>\n",
       "      <td>1A</td>\n",
       "    </tr>\n",
       "    <tr>\n",
       "      <th>125772</th>\n",
       "      <td>148120</td>\n",
       "      <td>1913</td>\n",
       "      <td>1922</td>\n",
       "      <td>2A</td>\n",
       "      <td>2A</td>\n",
       "    </tr>\n",
       "  </tbody>\n",
       "</table>\n",
       "<p>125773 rows × 5 columns</p>\n",
       "</div>"
      ],
      "text/plain": [
       "          Time  Person 1  Person 2 Class1  Class2\n",
       "0        31220      1558      1567      3B     3B\n",
       "1        31220      1560      1570      3B     3B\n",
       "2        31220      1567      1574      3B     3B\n",
       "3        31220      1632      1818      4B     4B\n",
       "4        31220      1632      1866      4B     4B\n",
       "...        ...       ...       ...     ...    ...\n",
       "125768  148120      1752      1783      1A     1A\n",
       "125769  148120      1752      1789      1A     1A\n",
       "125770  148120      1775      1798      1A     1A\n",
       "125771  148120      1783      1796      1A     1A\n",
       "125772  148120      1913      1922      2A     2A\n",
       "\n",
       "[125773 rows x 5 columns]"
      ]
     },
     "execution_count": 3,
     "metadata": {},
     "output_type": "execute_result"
    }
   ],
   "source": [
    "df"
   ]
  },
  {
   "cell_type": "code",
   "execution_count": 4,
   "id": "elementary-reward",
   "metadata": {},
   "outputs": [
    {
     "data": {
      "image/png": "[encoded data removed]",
      "text/plain": [
       "<Figure size 1080x360 with 1 Axes>"
      ]
     },
     "metadata": {
      "needs_background": "light"
     },
     "output_type": "display_data"
    }
   ],
   "source": [
    "plt.grid()\n",
    "plt.ylabel('Timestamp')\n",
    "plt.xlabel('Entry Index')\n",
    "plt.scatter(df.index, df.Time, s = 1)\n",
    "plt.show()"
   ]
  },
  {
   "cell_type": "code",
   "execution_count": 5,
   "id": "vocational-demand",
   "metadata": {},
   "outputs": [
    {
     "name": "stdout",
     "output_type": "stream",
     "text": [
      "defaultdict(<class 'int'>, {20: 3098, 54940: 1})\n"
     ]
    }
   ],
   "source": [
    "unique_timestamps = list(set(df.Time))\n",
    "unique_timestamps.sort()\n",
    "\n",
    "gaps = defaultdict(int)\n",
    "\n",
    "for i in range(len(unique_timestamps) - 1):\n",
    "    gaps[unique_timestamps[i + 1] - unique_timestamps[i]] += 1\n",
    "\n",
    "print(gaps)"
   ]
  },
  {
   "cell_type": "code",
   "execution_count": 6,
   "id": "ready-brand",
   "metadata": {},
   "outputs": [],
   "source": [
    "correct_gap = 20\n",
    "offset = 54940 - correct_gap\n",
    "\n",
    "for index in range(1, df.shape[0]):\n",
    "    if df.Time[index] - df.Time[index-1] > correct_gap:\n",
    "        df.at[index, 'Time'] -= offset"
   ]
  },
  {
   "cell_type": "code",
   "execution_count": 7,
   "id": "persistent-variable",
   "metadata": {},
   "outputs": [
    {
     "name": "stdout",
     "output_type": "stream",
     "text": [
      "defaultdict(<class 'int'>, {20: 3099})\n"
     ]
    }
   ],
   "source": [
    "unique_timestamps = list(set(df.Time))\n",
    "unique_timestamps.sort()\n",
    "\n",
    "gaps = defaultdict(int)\n",
    "\n",
    "for i in range(len(unique_timestamps)-1):\n",
    "    gaps[unique_timestamps[i + 1] - unique_timestamps[i]] += 1\n",
    "\n",
    "print(gaps)"
   ]
  },
  {
   "cell_type": "code",
   "execution_count": 8,
   "id": "particular-physiology",
   "metadata": {},
   "outputs": [
    {
     "data": {
      "image/png": "[encoded data removed]",
      "text/plain": [
       "<Figure size 1080x360 with 1 Axes>"
      ]
     },
     "metadata": {
      "needs_background": "light"
     },
     "output_type": "display_data"
    }
   ],
   "source": [
    "plt.rcParams['figure.figsize'] = (15, 5)\n",
    "plt.rcParams['font.size'] = 14\n",
    "\n",
    "plt.grid()\n",
    "plt.ylabel('Timestamp')\n",
    "plt.xlabel('Entry Index')\n",
    "plt.scatter(df.index, df.Time, s = 1)\n",
    "plt.show()"
   ]
  },
  {
   "cell_type": "code",
   "execution_count": 9,
   "id": "induced-ghost",
   "metadata": {},
   "outputs": [],
   "source": [
    "df.to_csv('contact_network.csv', index = False)"
   ]
  }
 ],
 "metadata": {
  "kernelspec": {
   "display_name": "Python 3",
   "language": "python",
   "name": "python3"
  },
  "language_info": {
   "codemirror_mode": {
    "name": "ipython",
    "version": 3
   },
   "file_extension": ".py",
   "mimetype": "text/x-python",
   "name": "python",
   "nbconvert_exporter": "python",
   "pygments_lexer": "ipython3",
   "version": "3.9.7"
  }
 },
 "nbformat": 4,
 "nbformat_minor": 5
}
