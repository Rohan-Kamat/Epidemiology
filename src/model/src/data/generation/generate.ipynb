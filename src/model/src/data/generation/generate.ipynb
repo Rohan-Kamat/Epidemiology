{
 "cells": [
  {
   "cell_type": "markdown",
   "metadata": {},
   "source": [
    "# Generating Dataset"
   ]
  },
  {
   "cell_type": "code",
   "execution_count": 1,
   "metadata": {},
   "outputs": [],
   "source": [
    "import pandas as pd\n",
    "import random\n",
    "import matplotlib.pyplot as plt\n",
    "import numpy as np\n",
    "from statistics import mean"
   ]
  },
  {
   "cell_type": "code",
   "execution_count": 2,
   "metadata": {},
   "outputs": [],
   "source": [
    "# Constants\n",
    "# Control Parameters\n",
    "\n",
    "DEFAULT_AGE_LB = 20\n",
    "DEFAULT_AGE_UB = 40\n",
    "\n",
    "NUM_ADULTS_PROBABILITIES = [0, 0.65, 1]\n",
    "NUM_CHILDREN_PROBABILITIES = [0.2, 0.45, 0.9, 1]\n",
    "NUM_PARENTS_PROBABILITIES = [0.5, 0.65, 1]\n",
    "\n",
    "ADULT_AGE_RANGE = (30, 50)\n",
    "\n",
    "CHILDREN_AGE_DIFF_LB = 25\n",
    "CHILDREN_AGE_DIFF_UB = 28\n",
    "\n",
    "PARENT_AGE_DIFF_LB = 30\n",
    "PARENT_AGE_DIFF_UB = 35\n",
    "\n",
    "FAMILY_PER_APARTMENT = 30\n",
    "\n",
    "APARTMENTS = 3\n",
    "HOMES = 15\n",
    "\n",
    "RETIREMENT_AGE = 65\n",
    "OFFICE_AGE = 25\n",
    "UNI_AGE = 18\n",
    "COLLEGE_AGE = 16\n",
    "SECONDARY_AGE = 11\n",
    "PRIMARY_AGE = 5\n",
    "\n",
    "EMPLOYMENT_RATE = 0.6\n",
    "UNI_RATE = 0.7\n",
    "COLLEGE_RATE = 0.75\n",
    "SECONDARY_RATE = 0.9\n",
    "PRIMARY_RATE = 0.95\n",
    "PRE_RATE = 0.99\n",
    "\n",
    "OFFICE_CAPACITY = 50\n",
    "SHOP_CAPACITY = 30\n",
    "\n",
    "APARTMENT_CONTACTS_SCALE = 1\n",
    "OFFICE_CONTACTS_SCALE = 1.5\n",
    "SCHOOL_CONTACTS_SCALE = 2\n",
    "SHOP_CONTACTS_SCALE = 2.5\n",
    "FAMILY_CONTACTS_SCALE = 3"
   ]
  },
  {
   "cell_type": "markdown",
   "metadata": {},
   "source": [
    "## Metadata"
   ]
  },
  {
   "cell_type": "code",
   "execution_count": 3,
   "metadata": {},
   "outputs": [],
   "source": [
    "def pick(probabilities):\n",
    "    val = random.random()\n",
    "    for i, probability in enumerate(probabilities):\n",
    "        if val <= probability:\n",
    "            return i"
   ]
  },
  {
   "cell_type": "code",
   "execution_count": 4,
   "metadata": {},
   "outputs": [],
   "source": [
    "class Person:\n",
    "    count = 0\n",
    "    people = []\n",
    "\n",
    "    def __init__(self, family, age=None, apartment=-1, home=-1):\n",
    "        self.id = Person.count\n",
    "        self.age = random.randint(DEFAULT_AGE_LB, DEFAULT_AGE_UB) if age == None else random.randint(age[0], age[1])\n",
    "        self.apartment = apartment\n",
    "        self.home = home\n",
    "        self.family = family\n",
    "        self.office = -1\n",
    "        self.school = -1\n",
    "\n",
    "        Person.count = Person.count + 1\n",
    "\n",
    "    def __repr__(self):\n",
    "        return str({\n",
    "            'id': self.id,\n",
    "            'age': self.age,\n",
    "            'apartment': self.apartment,\n",
    "            'home': self.home,\n",
    "            'family': self.family,\n",
    "            'office': self.office,\n",
    "            'school': self.school\n",
    "        })"
   ]
  },
  {
   "cell_type": "code",
   "execution_count": 5,
   "metadata": {},
   "outputs": [],
   "source": [
    "class Family:\n",
    "    # assuming a city population\n",
    "    # imagine families to be based around 1 or 2 adults of age [30, 60]\n",
    "    # having chance c of having children 1, 2 or 3 children of age [1, m - [25-30]]\n",
    "    # where m in the age of the younger adult\n",
    "    # and having chance p of living with 0, 1 or 2 of their parents\n",
    "    # whose age would be in range [M + [20-25], 85]\n",
    "    count = 0\n",
    "\n",
    "    a = NUM_ADULTS_PROBABILITIES\n",
    "    c = NUM_CHILDREN_PROBABILITIES\n",
    "    p = NUM_PARENTS_PROBABILITIES\n",
    "\n",
    "    def __init__(self, n=None, apartment=-1, home=-1):\n",
    "        self.members = []\n",
    "        self.id = Family.count\n",
    "        Family.count = Family.count + 1\n",
    "\n",
    "        if n is not None:\n",
    "            for _ in range(n):\n",
    "                person = Person(family=self.id, apartment=apartment, home=home)\n",
    "                Person.people.append(person)\n",
    "                self.members.append(person.id)\n",
    "    \n",
    "        adults = pick(Family.a)\n",
    "        children = pick(Family.c)\n",
    "        parents = pick(Family.p)\n",
    "\n",
    "        m = 100\n",
    "        M = -1\n",
    "\n",
    "        for _ in range(adults):\n",
    "            person = Person(age=ADULT_AGE_RANGE, family=self.id, apartment=apartment, home=home)\n",
    "            Person.people.append(person)\n",
    "            m = min(m, person.age)\n",
    "            M = max(M, person.age)\n",
    "            self.members.append(person.id)\n",
    "\n",
    "        for _ in range(children):\n",
    "            person = Person(age=(1, m - random.randint(CHILDREN_AGE_DIFF_LB, CHILDREN_AGE_DIFF_UB)), apartment=apartment, home=home, family=self.id)\n",
    "            Person.people.append(person)\n",
    "            self.members.append(person.id)\n",
    "\n",
    "        for _ in range(parents):\n",
    "            person = Person(age=(M + PARENT_AGE_DIFF_LB, M + PARENT_AGE_DIFF_UB), apartment=apartment, home=home, family=self.id)\n",
    "            Person.people.append(person)\n",
    "            self.members.append(person.id)\n",
    "\n",
    "    def __repr__(self):\n",
    "        return str(self.id) + \":\" + str(self.members)"
   ]
  },
  {
   "cell_type": "code",
   "execution_count": 6,
   "metadata": {},
   "outputs": [],
   "source": [
    "class Home:\n",
    "    count = 0\n",
    "\n",
    "    def __init__(self):\n",
    "        self.id = Home.count\n",
    "        self.family = Family(home=self.id)\n",
    "        Home.count = Home.count + 1\n",
    "\n",
    "    def __repr__(self):\n",
    "        return str(self.id) + \":\" + str(self.family)"
   ]
  },
  {
   "cell_type": "code",
   "execution_count": 7,
   "metadata": {},
   "outputs": [],
   "source": [
    "class Apartment:\n",
    "    size = FAMILY_PER_APARTMENT\n",
    "    count = 0\n",
    "    \n",
    "    def __init__(self):\n",
    "        self.families = [Family(apartment=Apartment.count) for _ in range(Apartment.size)]\n",
    "        self.people = set()\n",
    "        for family in self.families:\n",
    "            self.people.update(family.members)\n",
    "        Apartment.count = Apartment.count + 1\n",
    "\n",
    "    def __repr__(self):\n",
    "        return str(self.families)"
   ]
  },
  {
   "cell_type": "code",
   "execution_count": 8,
   "metadata": {},
   "outputs": [],
   "source": [
    "class Office:\n",
    "    count = 0\n",
    "\n",
    "    def __init__(self):\n",
    "        self.id = Office.count\n",
    "        Office.count = Office.count + 1\n",
    "        self.employees = set()\n",
    "\n",
    "    def hire(self, id):\n",
    "        Person.people[id].office = self.id\n",
    "        self.employees.add(id)\n",
    "\n",
    "    def __repr__(self):\n",
    "        return str(self.id) + \":\" + str(self.employees)"
   ]
  },
  {
   "cell_type": "code",
   "execution_count": 9,
   "metadata": {},
   "outputs": [],
   "source": [
    "class School:\n",
    "    count = 0\n",
    "\n",
    "    def __init__(self):\n",
    "        self.id = School.count\n",
    "        School.count = School.count + 1\n",
    "        self.students = set()\n",
    "\n",
    "    def admit(self, id):\n",
    "        Person.people[id].school = self.id\n",
    "        self.students.add(id)\n",
    "\n",
    "    def __repr__(self):\n",
    "        return str(self.id) + \":\" + str(self.students)"
   ]
  },
  {
   "cell_type": "code",
   "execution_count": 10,
   "metadata": {},
   "outputs": [],
   "source": [
    "class Society:\n",
    "    \n",
    "    def __init__(\n",
    "        self,\n",
    "        apartments=APARTMENTS,\n",
    "        homes=HOMES,\n",
    "    ):\n",
    "        self.n_apartments = apartments\n",
    "        self.apartments = [Apartment() for _ in range(apartments)]\n",
    "\n",
    "        self.n_homes = homes\n",
    "        self.homes = [Home() for _ in range(homes)]\n",
    "\n",
    "        self.n_offices = Person.count // OFFICE_CAPACITY + 1\n",
    "        self.offices = [Office() for _ in range(self.n_offices)]\n",
    "        \n",
    "        self.pre = School()\n",
    "        self.primary = School()\n",
    "        self.secondary = School()\n",
    "        self.college = School()\n",
    "        self.uni = School()\n",
    "        \n",
    "        for person in Person.people:\n",
    "            if person.age > RETIREMENT_AGE:\n",
    "                continue\n",
    "            if person.age >= OFFICE_AGE:\n",
    "                if random.random() <= EMPLOYMENT_RATE:\n",
    "                    self.offices[random.randint(1, self.n_offices) - 1].hire(person.id)\n",
    "            elif person.age >= UNI_AGE:\n",
    "                if random.random() <= UNI_RATE:\n",
    "                    self.uni.admit(person.id)\n",
    "            elif person.age >= COLLEGE_AGE:\n",
    "                if random.random() <= COLLEGE_RATE:\n",
    "                    self.college.admit(person.id)\n",
    "            elif person.age >= SECONDARY_AGE:\n",
    "                if random.random() <= SECONDARY_RATE:\n",
    "                    self.secondary.admit(person.id)\n",
    "            elif person.age >= PRIMARY_AGE:\n",
    "                if random.random() <= PRIMARY_RATE:\n",
    "                    self.primary.admit(person.id)\n",
    "            else:\n",
    "                if random.random() <= PRE_RATE:\n",
    "                    self.pre.admit(person.id)"
   ]
  },
  {
   "cell_type": "code",
   "execution_count": 11,
   "metadata": {},
   "outputs": [],
   "source": [
    "society = Society()"
   ]
  },
  {
   "cell_type": "code",
   "execution_count": 12,
   "metadata": {},
   "outputs": [],
   "source": [
    "id = [person.id for person in Person.people]\n",
    "age = [person.age for person in Person.people]\n",
    "apartment = [person.apartment for person in Person.people]\n",
    "home = [person.home for person in Person.people]\n",
    "family = [person.family for person in Person.people]\n",
    "office = [person.office for person in Person.people]\n",
    "school = [person.school for person in Person.people]"
   ]
  },
  {
   "cell_type": "code",
   "execution_count": 13,
   "metadata": {},
   "outputs": [
    {
     "name": "stdout",
     "output_type": "stream",
     "text": [
      "There are 387 people in the society\n"
     ]
    }
   ],
   "source": [
    "print(f\"There are {Person.count} people in the society\")"
   ]
  },
  {
   "cell_type": "code",
   "execution_count": 14,
   "metadata": {},
   "outputs": [],
   "source": [
    "def hist(data):\n",
    "    fig, axis = plt.subplots(figsize =(10, 5))\n",
    "    axis.hist(data)\n",
    "    plt.show()"
   ]
  },
  {
   "cell_type": "code",
   "execution_count": 15,
   "metadata": {},
   "outputs": [
    {
     "data": {
      "image/png": "[encoded data removed]",
      "text/plain": [
       "<Figure size 720x360 with 1 Axes>"
      ]
     },
     "metadata": {
      "needs_background": "light"
     },
     "output_type": "display_data"
    }
   ],
   "source": [
    "hist(age)"
   ]
  },
  {
   "cell_type": "code",
   "execution_count": 16,
   "metadata": {},
   "outputs": [
    {
     "name": "stdout",
     "output_type": "stream",
     "text": [
      "34.92764857881137\n"
     ]
    }
   ],
   "source": [
    "print(mean(age))"
   ]
  },
  {
   "cell_type": "code",
   "execution_count": 17,
   "metadata": {},
   "outputs": [
    {
     "data": {
      "image/png": "[encoded data removed]",
      "text/plain": [
       "<Figure size 720x360 with 1 Axes>"
      ]
     },
     "metadata": {
      "needs_background": "light"
     },
     "output_type": "display_data"
    }
   ],
   "source": [
    "family_sizes = [0] * Family.count\n",
    "for person in Person.people:\n",
    "    family_sizes[person.family] = family_sizes[person.family] + 1\n",
    "\n",
    "hist(family_sizes)"
   ]
  },
  {
   "cell_type": "code",
   "execution_count": 18,
   "metadata": {},
   "outputs": [
    {
     "name": "stdout",
     "output_type": "stream",
     "text": [
      "3.6857142857142855\n"
     ]
    }
   ],
   "source": [
    "print(mean(family_sizes))"
   ]
  },
  {
   "cell_type": "code",
   "execution_count": 19,
   "metadata": {},
   "outputs": [],
   "source": [
    "data = {\n",
    "    'id': id,\n",
    "    'age': age,\n",
    "    'apartment': apartment,\n",
    "    'home': home,\n",
    "    'family': family,\n",
    "    'office': office,\n",
    "    'school': school\n",
    "}\n",
    "meta = pd.DataFrame(data)"
   ]
  },
  {
   "cell_type": "markdown",
   "metadata": {},
   "source": [
    "## Contact Network"
   ]
  },
  {
   "cell_type": "code",
   "execution_count": 20,
   "metadata": {},
   "outputs": [],
   "source": [
    "class ContactNetwork:\n",
    "\n",
    "    def __init__(self, society):\n",
    "        self.society = society\n",
    "        self.timestamp = []\n",
    "        self.p1 = []\n",
    "        self.p2 = []\n",
    "        self.time = 0\n",
    "\n",
    "    def pick_contacts(self, pool, scale):\n",
    "        n = int(len(pool) * scale)\n",
    "        pool = list(pool)\n",
    "        if len(pool) == 0:\n",
    "            return\n",
    "        for _ in range(n):\n",
    "            self.p1.append(random.choice(list(pool)))\n",
    "            self.p2.append(random.choice(list(pool)))\n",
    "            self.timestamp.append(self.time)\n",
    "\n",
    "    def build_contacts(self):\n",
    "        for day in range(30):\n",
    "            self.time = self.time + 1\n",
    "            for apartment in self.society.apartments:\n",
    "                self.pick_contacts(apartment.people, APARTMENT_CONTACTS_SCALE)\n",
    "\n",
    "            self.time = self.time + 1\n",
    "            for office in self.society.offices:\n",
    "                self.pick_contacts(office.employees, OFFICE_CONTACTS_SCALE)\n",
    "            for school in [self.society.pre, self.society.primary, self.society.secondary, self.society.college, self.society.uni]:\n",
    "                self.pick_contacts(school.students, SCHOOL_CONTACTS_SCALE)\n",
    "\n",
    "            self.time = self.time + 1\n",
    "            NUM_SHOPS = Person.count // SHOP_CAPACITY + 1\n",
    "            shops = [[]] * NUM_SHOPS\n",
    "            for person in Person.people:\n",
    "                if random.random() <= 0.4:\n",
    "                    shops[random.randint(1, NUM_SHOPS) - 1].append(person.id)\n",
    "            for shop in shops:\n",
    "                self.pick_contacts(shop, SHOP_CONTACTS_SCALE)\n",
    "\n",
    "            self.time = self.time + 1\n",
    "            for apartment in self.society.apartments:\n",
    "                for family in apartment.families:\n",
    "                    self.pick_contacts(family.members, FAMILY_CONTACTS_SCALE)\n",
    "            for home in self.society.homes:\n",
    "                self.pick_contacts(home.family.members, FAMILY_CONTACTS_SCALE)\n",
    "\n",
    "        data = {\n",
    "            'timestamp': self.timestamp,\n",
    "            'p1': self.p1,\n",
    "            'p2': self.p2\n",
    "        }\n",
    "        cn = pd.DataFrame(data)\n",
    "\n",
    "        return cn"
   ]
  },
  {
   "cell_type": "code",
   "execution_count": 21,
   "metadata": {},
   "outputs": [],
   "source": [
    "builder = ContactNetwork(society)\n",
    "cn = builder.build_contacts()"
   ]
  },
  {
   "cell_type": "code",
   "execution_count": 22,
   "metadata": {},
   "outputs": [],
   "source": [
    "\n",
    "meta.to_csv('metadata.csv', header=True, index=False)\n",
    "cn.to_csv('contact_network.csv', header=True, index=True)"
   ]
  },
  {
   "cell_type": "code",
   "execution_count": null,
   "metadata": {},
   "outputs": [],
   "source": []
  },
  {
   "cell_type": "code",
   "execution_count": null,
   "metadata": {},
   "outputs": [],
   "source": []
  }
 ],
 "metadata": {
  "interpreter": {
   "hash": "945d9b4b4e821cdfb190d8b9764f998578a4b0e911ae9f184bb6b843a583816f"
  },
  "kernelspec": {
   "display_name": "Python 3.9.10 64-bit (windows store)",
   "language": "python",
   "name": "python3"
  },
  "language_info": {
   "codemirror_mode": {
    "name": "ipython",
    "version": 3
   },
   "file_extension": ".py",
   "mimetype": "text/x-python",
   "name": "python",
   "nbconvert_exporter": "python",
   "pygments_lexer": "ipython3",
   "version": "3.9.7"
  },
  "orig_nbformat": 4
 },
 "nbformat": 4,
 "nbformat_minor": 2
}
