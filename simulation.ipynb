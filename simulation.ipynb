{
 "cells": [
  {
   "cell_type": "code",
   "execution_count": 69,
   "metadata": {},
   "outputs": [],
   "source": [
    "import pandas as pd\n",
    "import os\n",
    "import random"
   ]
  },
  {
   "cell_type": "code",
   "execution_count": 70,
   "metadata": {},
   "outputs": [],
   "source": [
    "df = pd.read_csv('primaryschool.csv')"
   ]
  },
  {
   "cell_type": "code",
   "execution_count": 71,
   "metadata": {},
   "outputs": [
    {
     "data": {
      "text/html": [
       "<div>\n",
       "<style scoped>\n",
       "    .dataframe tbody tr th:only-of-type {\n",
       "        vertical-align: middle;\n",
       "    }\n",
       "\n",
       "    .dataframe tbody tr th {\n",
       "        vertical-align: top;\n",
       "    }\n",
       "\n",
       "    .dataframe thead th {\n",
       "        text-align: right;\n",
       "    }\n",
       "</style>\n",
       "<table border=\"1\" class=\"dataframe\">\n",
       "  <thead>\n",
       "    <tr style=\"text-align: right;\">\n",
       "      <th></th>\n",
       "      <th>Time</th>\n",
       "      <th>Person 1</th>\n",
       "      <th>Person 2</th>\n",
       "    </tr>\n",
       "  </thead>\n",
       "  <tbody>\n",
       "    <tr>\n",
       "      <th>count</th>\n",
       "      <td>125773.000000</td>\n",
       "      <td>125773.000000</td>\n",
       "      <td>125773.000000</td>\n",
       "    </tr>\n",
       "    <tr>\n",
       "      <th>mean</th>\n",
       "      <td>90687.675574</td>\n",
       "      <td>1635.858109</td>\n",
       "      <td>1737.303897</td>\n",
       "    </tr>\n",
       "    <tr>\n",
       "      <th>std</th>\n",
       "      <td>43793.491033</td>\n",
       "      <td>122.818086</td>\n",
       "      <td>137.779067</td>\n",
       "    </tr>\n",
       "    <tr>\n",
       "      <th>min</th>\n",
       "      <td>31220.000000</td>\n",
       "      <td>1426.000000</td>\n",
       "      <td>1427.000000</td>\n",
       "    </tr>\n",
       "    <tr>\n",
       "      <th>25%</th>\n",
       "      <td>45640.000000</td>\n",
       "      <td>1545.000000</td>\n",
       "      <td>1653.000000</td>\n",
       "    </tr>\n",
       "    <tr>\n",
       "      <th>50%</th>\n",
       "      <td>118580.000000</td>\n",
       "      <td>1661.000000</td>\n",
       "      <td>1759.000000</td>\n",
       "    </tr>\n",
       "    <tr>\n",
       "      <th>75%</th>\n",
       "      <td>132020.000000</td>\n",
       "      <td>1719.000000</td>\n",
       "      <td>1857.000000</td>\n",
       "    </tr>\n",
       "    <tr>\n",
       "      <th>max</th>\n",
       "      <td>148120.000000</td>\n",
       "      <td>1920.000000</td>\n",
       "      <td>1922.000000</td>\n",
       "    </tr>\n",
       "  </tbody>\n",
       "</table>\n",
       "</div>"
      ],
      "text/plain": [
       "                Time       Person 1       Person 2\n",
       "count  125773.000000  125773.000000  125773.000000\n",
       "mean    90687.675574    1635.858109    1737.303897\n",
       "std     43793.491033     122.818086     137.779067\n",
       "min     31220.000000    1426.000000    1427.000000\n",
       "25%     45640.000000    1545.000000    1653.000000\n",
       "50%    118580.000000    1661.000000    1759.000000\n",
       "75%    132020.000000    1719.000000    1857.000000\n",
       "max    148120.000000    1920.000000    1922.000000"
      ]
     },
     "execution_count": 71,
     "metadata": {},
     "output_type": "execute_result"
    }
   ],
   "source": [
    "df.describe()"
   ]
  },
  {
   "cell_type": "code",
   "execution_count": 72,
   "metadata": {},
   "outputs": [
    {
     "name": "stdout",
     "output_type": "stream",
     "text": [
      "5845.0\n"
     ]
    }
   ],
   "source": [
    "timestamps = (df[\"Time\"].iloc[-1] - df[\"Time\"].iloc[0])/20\n",
    "print(timestamps)"
   ]
  },
  {
   "cell_type": "markdown",
   "metadata": {},
   "source": [
    "195 timestamps are going to be clustered together and considered as one day.<br>\n",
    "This would make the dataset into 30 days"
   ]
  },
  {
   "cell_type": "code",
   "execution_count": 77,
   "metadata": {},
   "outputs": [],
   "source": [
    "class SIR:\n",
    "    suscepted = []\n",
    "    infected = []\n",
    "    recovered = []\n",
    "    # Can be modified according to the disease scenario\n",
    "    alpha = 0.3\n",
    "    beta = 0.4\n",
    "    initial_infected = 12\n",
    "    \n",
    "#     As per the data in the dataset\n",
    "    start_range = 1426\n",
    "    end_range = 1922+1\n",
    "    \n",
    "    def random_sample(start_range,end_range,select):\n",
    "        return random.sample(range(start_range,end_range),select)\n",
    "    \n",
    "    def init(self):\n",
    "        for person in range(self.start_range,self.end_range):\n",
    "            self.suscepted.append(person)\n",
    "        self.infected = random_sample(self.start_range,self.end_range,self.initial_infected)\n",
    "        \n",
    "        for infected_person in self.infected:\n",
    "            self.suscepted.remove(infected_person)\n",
    "    def person_type(self, person):\n",
    "        if(person in self.suscepted):\n",
    "            return 'suscepted'\n",
    "        if(person in self.infected):\n",
    "            return 'infected'\n",
    "        return 'recovered'\n",
    "    \n",
    "    def get_new_infected(self, infected_contact):\n",
    "        total = len(infected_contact)\n",
    "        new_infected_total = self.alpha*total\n",
    "        new_infected = random.sample(infected_contact,new_infected_total)\n",
    "        \n",
    "        # Remove duplicates\n",
    "        new_infected = list(set(new_infected))\n",
    "        \n",
    "        # Add them to infected\n",
    "        for infected_person in new_infected:\n",
    "            self.infected.append(infected_person)\n",
    "            self.suscepted.remove(infected_person)\n",
    "    \n",
    "    def get_new_recovered(self):\n",
    "        recovered_count = self.beta*(len(self.infected))\n",
    "        new_recovered = random.sample(self.infected,recovered_count)\n",
    "        \n",
    "        # Add them to recovered\n",
    "        for recovered_poerson in new_recovered:\n",
    "            self.infected.remove(recovered_person)\n",
    "            self.recovered.append(recovered_person)\n",
    "        \n",
    "        \n",
    "        \n",
    "        "
   ]
  },
  {
   "cell_type": "code",
   "execution_count": 78,
   "metadata": {},
   "outputs": [],
   "source": [
    "model = SIR()"
   ]
  },
  {
   "cell_type": "code",
   "execution_count": 79,
   "metadata": {},
   "outputs": [
    {
     "ename": "TypeError",
     "evalue": "can't multiply sequence by non-int of type 'float'",
     "output_type": "error",
     "traceback": [
      "\u001b[0;31m---------------------------------------------------------------------------\u001b[0m",
      "\u001b[0;31mTypeError\u001b[0m                                 Traceback (most recent call last)",
      "\u001b[0;32m<ipython-input-79-42e5253b5459>\u001b[0m in \u001b[0;36m<module>\u001b[0;34m\u001b[0m\n\u001b[1;32m     15\u001b[0m         \u001b[0mcount\u001b[0m \u001b[0;34m=\u001b[0m \u001b[0mcount\u001b[0m \u001b[0;34m+\u001b[0m \u001b[0;36m1\u001b[0m\u001b[0;34m\u001b[0m\u001b[0;34m\u001b[0m\u001b[0m\n\u001b[1;32m     16\u001b[0m         \u001b[0mtotal_count\u001b[0m \u001b[0;34m=\u001b[0m \u001b[0mtotal_count\u001b[0m \u001b[0;34m+\u001b[0m \u001b[0;36m1\u001b[0m\u001b[0;34m\u001b[0m\u001b[0;34m\u001b[0m\u001b[0m\n\u001b[0;32m---> 17\u001b[0;31m     \u001b[0mmodel\u001b[0m\u001b[0;34m.\u001b[0m\u001b[0mget_new_recovered\u001b[0m\u001b[0;34m(\u001b[0m\u001b[0;34m)\u001b[0m\u001b[0;34m\u001b[0m\u001b[0;34m\u001b[0m\u001b[0m\n\u001b[0m\u001b[1;32m     18\u001b[0m     \u001b[0mmodel\u001b[0m\u001b[0;34m.\u001b[0m\u001b[0mget_new_infected\u001b[0m\u001b[0;34m(\u001b[0m\u001b[0minfected_contact\u001b[0m\u001b[0;34m)\u001b[0m\u001b[0;34m\u001b[0m\u001b[0;34m\u001b[0m\u001b[0m\n\u001b[1;32m     19\u001b[0m \u001b[0;34m\u001b[0m\u001b[0m\n",
      "\u001b[0;32m<ipython-input-77-60f8982c8de1>\u001b[0m in \u001b[0;36mget_new_recovered\u001b[0;34m(self)\u001b[0m\n\u001b[1;32m     44\u001b[0m     \u001b[0;32mdef\u001b[0m \u001b[0mget_new_recovered\u001b[0m\u001b[0;34m(\u001b[0m\u001b[0mself\u001b[0m\u001b[0;34m)\u001b[0m\u001b[0;34m:\u001b[0m\u001b[0;34m\u001b[0m\u001b[0;34m\u001b[0m\u001b[0m\n\u001b[1;32m     45\u001b[0m         \u001b[0mrecovered_count\u001b[0m \u001b[0;34m=\u001b[0m \u001b[0mself\u001b[0m\u001b[0;34m.\u001b[0m\u001b[0mbeta\u001b[0m\u001b[0;34m*\u001b[0m\u001b[0;34m(\u001b[0m\u001b[0mlen\u001b[0m\u001b[0;34m(\u001b[0m\u001b[0mself\u001b[0m\u001b[0;34m.\u001b[0m\u001b[0minfected\u001b[0m\u001b[0;34m)\u001b[0m\u001b[0;34m)\u001b[0m\u001b[0;34m\u001b[0m\u001b[0;34m\u001b[0m\u001b[0m\n\u001b[0;32m---> 46\u001b[0;31m         \u001b[0mnew_recovered\u001b[0m \u001b[0;34m=\u001b[0m \u001b[0mrandom\u001b[0m\u001b[0;34m.\u001b[0m\u001b[0msample\u001b[0m\u001b[0;34m(\u001b[0m\u001b[0mself\u001b[0m\u001b[0;34m.\u001b[0m\u001b[0minfected\u001b[0m\u001b[0;34m,\u001b[0m\u001b[0mrecovered_count\u001b[0m\u001b[0;34m)\u001b[0m\u001b[0;34m\u001b[0m\u001b[0;34m\u001b[0m\u001b[0m\n\u001b[0m\u001b[1;32m     47\u001b[0m \u001b[0;34m\u001b[0m\u001b[0m\n\u001b[1;32m     48\u001b[0m         \u001b[0;31m# Add them to recovered\u001b[0m\u001b[0;34m\u001b[0m\u001b[0;34m\u001b[0m\u001b[0;34m\u001b[0m\u001b[0m\n",
      "\u001b[0;32m/usr/lib/python3.8/random.py\u001b[0m in \u001b[0;36msample\u001b[0;34m(self, population, k)\u001b[0m\n\u001b[1;32m    362\u001b[0m         \u001b[0;32mif\u001b[0m \u001b[0;32mnot\u001b[0m \u001b[0;36m0\u001b[0m \u001b[0;34m<=\u001b[0m \u001b[0mk\u001b[0m \u001b[0;34m<=\u001b[0m \u001b[0mn\u001b[0m\u001b[0;34m:\u001b[0m\u001b[0;34m\u001b[0m\u001b[0;34m\u001b[0m\u001b[0m\n\u001b[1;32m    363\u001b[0m             \u001b[0;32mraise\u001b[0m \u001b[0mValueError\u001b[0m\u001b[0;34m(\u001b[0m\u001b[0;34m\"Sample larger than population or is negative\"\u001b[0m\u001b[0;34m)\u001b[0m\u001b[0;34m\u001b[0m\u001b[0;34m\u001b[0m\u001b[0m\n\u001b[0;32m--> 364\u001b[0;31m         \u001b[0mresult\u001b[0m \u001b[0;34m=\u001b[0m \u001b[0;34m[\u001b[0m\u001b[0;32mNone\u001b[0m\u001b[0;34m]\u001b[0m \u001b[0;34m*\u001b[0m \u001b[0mk\u001b[0m\u001b[0;34m\u001b[0m\u001b[0;34m\u001b[0m\u001b[0m\n\u001b[0m\u001b[1;32m    365\u001b[0m         \u001b[0msetsize\u001b[0m \u001b[0;34m=\u001b[0m \u001b[0;36m21\u001b[0m        \u001b[0;31m# size of a small set minus size of an empty list\u001b[0m\u001b[0;34m\u001b[0m\u001b[0;34m\u001b[0m\u001b[0m\n\u001b[1;32m    366\u001b[0m         \u001b[0;32mif\u001b[0m \u001b[0mk\u001b[0m \u001b[0;34m>\u001b[0m \u001b[0;36m5\u001b[0m\u001b[0;34m:\u001b[0m\u001b[0;34m\u001b[0m\u001b[0;34m\u001b[0m\u001b[0m\n",
      "\u001b[0;31mTypeError\u001b[0m: can't multiply sequence by non-int of type 'float'"
     ]
    }
   ],
   "source": [
    "total_count = 0\n",
    "while total_count < df.shape[0]:\n",
    "    count = 0\n",
    "    infected_contact = []\n",
    "    while count < 195 and total_count < df.shape[0]:\n",
    "        person1 = df[\"Person 1\"][total_count]\n",
    "        person2 = df[\"Person 2\"][total_count]\n",
    "        \n",
    "        # Check for transitions from Suscepted to Infected\n",
    "        if model.person_type(person1) == 'suscepted' and model.person_type(person2) == 'infected':\n",
    "            infected_contact.append(person1)\n",
    "        if model.person_type(person2) == 'suscepted' and model.person_type(person1) == 'infected':\n",
    "            infected_contact.append(person2)\n",
    "        \n",
    "        count = count + 1\n",
    "        total_count = total_count + 1\n",
    "    model.get_new_recovered()\n",
    "    model.get_new_infected(infected_contact)\n",
    "    \n",
    "            \n",
    "        \n",
    "        "
   ]
  }
 ],
 "metadata": {
  "kernelspec": {
   "display_name": "Python 3",
   "language": "python",
   "name": "python3"
  },
  "language_info": {
   "codemirror_mode": {
    "name": "ipython",
    "version": 3
   },
   "file_extension": ".py",
   "mimetype": "text/x-python",
   "name": "python",
   "nbconvert_exporter": "python",
   "pygments_lexer": "ipython3",
   "version": "3.8.10"
  }
 },
 "nbformat": 4,
 "nbformat_minor": 4
}
