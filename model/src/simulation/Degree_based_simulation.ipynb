{
 "cells": [
  {
   "cell_type": "code",
   "execution_count": 1,
   "metadata": {},
   "outputs": [],
   "source": [
    "import pandas as pd\n",
    "import sys"
   ]
  },
  {
   "cell_type": "code",
   "execution_count": 2,
   "metadata": {},
   "outputs": [],
   "source": [
    "sys.path.append('../')"
   ]
  },
  {
   "cell_type": "code",
   "execution_count": 3,
   "metadata": {},
   "outputs": [],
   "source": [
    "from utils import SIR, run\n",
    "from vaccination_strategy.Degree_based_strategy import vaccination_strategy"
   ]
  },
  {
   "cell_type": "code",
   "execution_count": 4,
   "metadata": {},
   "outputs": [],
   "source": [
    "metadata = pd.read_csv('../dataset/metadata.csv', sep='\\t', lineterminator='\\n', names=['ID', 'Class', 'Sex'])\n",
    "df = pd.read_csv('../dataset/contact_network.csv')"
   ]
  },
  {
   "cell_type": "code",
   "execution_count": 5,
   "metadata": {},
   "outputs": [
    {
     "data": {
      "text/html": [
       "<div>\n",
       "<style scoped>\n",
       "    .dataframe tbody tr th:only-of-type {\n",
       "        vertical-align: middle;\n",
       "    }\n",
       "\n",
       "    .dataframe tbody tr th {\n",
       "        vertical-align: top;\n",
       "    }\n",
       "\n",
       "    .dataframe thead th {\n",
       "        text-align: right;\n",
       "    }\n",
       "</style>\n",
       "<table border=\"1\" class=\"dataframe\">\n",
       "  <thead>\n",
       "    <tr style=\"text-align: right;\">\n",
       "      <th></th>\n",
       "      <th>Time</th>\n",
       "      <th>Person 1</th>\n",
       "      <th>Person 2</th>\n",
       "      <th>Class1</th>\n",
       "      <th>Class2</th>\n",
       "    </tr>\n",
       "  </thead>\n",
       "  <tbody>\n",
       "    <tr>\n",
       "      <th>0</th>\n",
       "      <td>31220</td>\n",
       "      <td>1558</td>\n",
       "      <td>1567</td>\n",
       "      <td>3B</td>\n",
       "      <td>3B</td>\n",
       "    </tr>\n",
       "    <tr>\n",
       "      <th>1</th>\n",
       "      <td>31220</td>\n",
       "      <td>1560</td>\n",
       "      <td>1570</td>\n",
       "      <td>3B</td>\n",
       "      <td>3B</td>\n",
       "    </tr>\n",
       "    <tr>\n",
       "      <th>2</th>\n",
       "      <td>31220</td>\n",
       "      <td>1567</td>\n",
       "      <td>1574</td>\n",
       "      <td>3B</td>\n",
       "      <td>3B</td>\n",
       "    </tr>\n",
       "    <tr>\n",
       "      <th>3</th>\n",
       "      <td>31220</td>\n",
       "      <td>1632</td>\n",
       "      <td>1818</td>\n",
       "      <td>4B</td>\n",
       "      <td>4B</td>\n",
       "    </tr>\n",
       "    <tr>\n",
       "      <th>4</th>\n",
       "      <td>31220</td>\n",
       "      <td>1632</td>\n",
       "      <td>1866</td>\n",
       "      <td>4B</td>\n",
       "      <td>4B</td>\n",
       "    </tr>\n",
       "  </tbody>\n",
       "</table>\n",
       "</div>"
      ],
      "text/plain": [
       "    Time  Person 1  Person 2 Class1  Class2\n",
       "0  31220      1558      1567      3B     3B\n",
       "1  31220      1560      1570      3B     3B\n",
       "2  31220      1567      1574      3B     3B\n",
       "3  31220      1632      1818      4B     4B\n",
       "4  31220      1632      1866      4B     4B"
      ]
     },
     "execution_count": 5,
     "metadata": {},
     "output_type": "execute_result"
    }
   ],
   "source": [
    "df.head()"
   ]
  },
  {
   "cell_type": "code",
   "execution_count": 6,
   "metadata": {},
   "outputs": [],
   "source": [
    "model = SIR(\n",
    "    metadata=metadata,\n",
    "    df=df\n",
    ")"
   ]
  },
  {
   "cell_type": "code",
   "execution_count": 7,
   "metadata": {},
   "outputs": [],
   "source": [
    "vaccinated = vaccination_strategy(model,20,5)"
   ]
  },
  {
   "cell_type": "code",
   "execution_count": 8,
   "metadata": {},
   "outputs": [
    {
     "name": "stdout",
     "output_type": "stream",
     "text": [
      "[1500, 1549, 1673, 1720, 1452, 1459, 1722, 1763, 1815, 1902, 1471, 1519, 1585, 1628, 1688, 1714, 1752, 1766, 1426, 1428, 1443, 1477, 1493, 1498, 1567, 1775, 1802, 1457, 1579, 1764, 1837, 1429, 1437, 1453, 1501, 1502, 1532, 1551, 1730, 1822, 1522, 1528, 1696, 1772, 1697, 1732, 1761, 1909, 1482, 1533, 1684, 1723, 1847, 1885, 1434, 1674, 1675, 1704, 1708, 1711, 1833, 1916, 1558, 1780, 1787, 1857, 1895, 1912, 1578, 1604, 1821, 1552, 1563, 1710, 1792, 1920, 1489, 1695, 1702, 1911, 1625, 1700, 1613, 1749, 1765, 1560, 1767, 1480, 1743, 1431, 1838, 1665, 1648, 1855, 1698, 1757, 1666, 1572, 1890]\n"
     ]
    }
   ],
   "source": [
    "print(vaccinated)"
   ]
  },
  {
   "cell_type": "code",
   "execution_count": 9,
   "metadata": {},
   "outputs": [
    {
     "name": "stdout",
     "output_type": "stream",
     "text": [
      "At day 0\n",
      "Number of susceptible:  230\n",
      "Number of infected:  12\n",
      "Number of recovered:  0\n",
      "Number of deceased:  0\n",
      "After Day  1\n",
      "Number of susceptible:  191\n",
      "Number of infected:  46\n",
      "Number of recovered:  3\n",
      "Number of deceased:  2\n",
      "After Day  2\n",
      "Number of susceptible:  113\n",
      "Number of infected:  106\n",
      "Number of recovered:  16\n",
      "Number of deceased:  7\n",
      "After Day  3\n",
      "Number of susceptible:  56\n",
      "Number of infected:  126\n",
      "Number of recovered:  47\n",
      "Number of deceased:  13\n",
      "After Day  4\n",
      "Number of susceptible:  17\n",
      "Number of infected:  122\n",
      "Number of recovered:  84\n",
      "Number of deceased:  19\n",
      "After Day  5\n",
      "Number of susceptible:  8\n",
      "Number of infected:  51\n",
      "Number of recovered:  160\n",
      "Number of deceased:  23\n",
      "After Day  6\n",
      "Number of susceptible:  8\n",
      "Number of infected:  35\n",
      "Number of recovered:  175\n",
      "Number of deceased:  24\n",
      "After Day  7\n",
      "Number of susceptible:  8\n",
      "Number of infected:  24\n",
      "Number of recovered:  185\n",
      "Number of deceased:  25\n",
      "After Day  8\n",
      "Number of susceptible:  8\n",
      "Number of infected:  17\n",
      "Number of recovered:  192\n",
      "Number of deceased:  25\n",
      "After Day  9\n",
      "Number of susceptible:  8\n",
      "Number of infected:  12\n",
      "Number of recovered:  197\n",
      "Number of deceased:  25\n",
      "After Day  10\n",
      "Number of susceptible:  7\n",
      "Number of infected:  10\n",
      "Number of recovered:  200\n",
      "Number of deceased:  25\n",
      "After Day  11\n",
      "Number of susceptible:  7\n",
      "Number of infected:  7\n",
      "Number of recovered:  203\n",
      "Number of deceased:  25\n",
      "After Day  12\n",
      "Number of susceptible:  7\n",
      "Number of infected:  5\n",
      "Number of recovered:  205\n",
      "Number of deceased:  25\n",
      "After Day  13\n",
      "Number of susceptible:  6\n",
      "Number of infected:  5\n",
      "Number of recovered:  206\n",
      "Number of deceased:  25\n",
      "After Day  14\n",
      "Number of susceptible:  6\n",
      "Number of infected:  4\n",
      "Number of recovered:  207\n",
      "Number of deceased:  25\n",
      "After Day  15\n",
      "Number of susceptible:  5\n",
      "Number of infected:  4\n",
      "Number of recovered:  208\n",
      "Number of deceased:  25\n",
      "After Day  16\n",
      "Number of susceptible:  5\n",
      "Number of infected:  3\n",
      "Number of recovered:  209\n",
      "Number of deceased:  25\n",
      "After Day  17\n",
      "Number of susceptible:  5\n",
      "Number of infected:  3\n",
      "Number of recovered:  209\n",
      "Number of deceased:  25\n",
      "After Day  18\n",
      "Number of susceptible:  5\n",
      "Number of infected:  3\n",
      "Number of recovered:  209\n",
      "Number of deceased:  25\n",
      "After Day  19\n",
      "Number of susceptible:  4\n",
      "Number of infected:  4\n",
      "Number of recovered:  209\n",
      "Number of deceased:  25\n",
      "After Day  20\n",
      "Number of susceptible:  4\n",
      "Number of infected:  3\n",
      "Number of recovered:  210\n",
      "Number of deceased:  25\n",
      "After Day  21\n",
      "Number of susceptible:  4\n",
      "Number of infected:  3\n",
      "Number of recovered:  210\n",
      "Number of deceased:  25\n",
      "After Day  22\n",
      "Number of susceptible:  4\n",
      "Number of infected:  3\n",
      "Number of recovered:  210\n",
      "Number of deceased:  25\n",
      "After Day  23\n",
      "Number of susceptible:  4\n",
      "Number of infected:  3\n",
      "Number of recovered:  210\n",
      "Number of deceased:  25\n",
      "After Day  24\n",
      "Number of susceptible:  4\n",
      "Number of infected:  3\n",
      "Number of recovered:  210\n",
      "Number of deceased:  25\n",
      "After Day  25\n",
      "Number of susceptible:  4\n",
      "Number of infected:  3\n",
      "Number of recovered:  210\n",
      "Number of deceased:  25\n",
      "After Day  26\n",
      "Number of susceptible:  4\n",
      "Number of infected:  3\n",
      "Number of recovered:  210\n",
      "Number of deceased:  25\n",
      "After Day  27\n",
      "Number of susceptible:  4\n",
      "Number of infected:  3\n",
      "Number of recovered:  210\n",
      "Number of deceased:  25\n",
      "After Day  28\n",
      "Number of susceptible:  4\n",
      "Number of infected:  3\n",
      "Number of recovered:  210\n",
      "Number of deceased:  25\n",
      "After Day  29\n",
      "Number of susceptible:  4\n",
      "Number of infected:  3\n",
      "Number of recovered:  210\n",
      "Number of deceased:  25\n",
      "After Day  30\n",
      "Number of susceptible:  4\n",
      "Number of infected:  3\n",
      "Number of recovered:  210\n",
      "Number of deceased:  25\n",
      "{'metrics': {'total_deaths': 25, 'peak_infections': 126}}\n"
     ]
    },
    {
     "data": {
      "text/plain": [
       "{'metrics': {'total_deaths': 25, 'peak_infections': 126}}"
      ]
     },
     "execution_count": 9,
     "metadata": {},
     "output_type": "execute_result"
    },
    {
     "data": {
      "image/png": "[encoded data removed]",
      "text/plain": [
       "<Figure size 432x288 with 1 Axes>"
      ]
     },
     "metadata": {
      "needs_background": "light"
     },
     "output_type": "display_data"
    }
   ],
   "source": [
    "run(model,vaccinated,5)"
   ]
  },
  {
   "cell_type": "code",
   "execution_count": null,
   "metadata": {},
   "outputs": [],
   "source": []
  }
 ],
 "metadata": {
  "kernelspec": {
   "display_name": "Python 3",
   "language": "python",
   "name": "python3"
  },
  "language_info": {
   "codemirror_mode": {
    "name": "ipython",
    "version": 3
   },
   "file_extension": ".py",
   "mimetype": "text/x-python",
   "name": "python",
   "nbconvert_exporter": "python",
   "pygments_lexer": "ipython3",
   "version": "3.8.5"
  }
 },
 "nbformat": 4,
 "nbformat_minor": 4
}
