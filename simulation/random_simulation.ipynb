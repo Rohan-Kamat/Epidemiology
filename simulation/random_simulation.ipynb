{
 "cells": [
  {
   "cell_type": "code",
   "execution_count": 1,
   "metadata": {},
   "outputs": [],
   "source": [
    "import pandas as pd\n",
    "import sys\n",
    "import random"
   ]
  },
  {
   "cell_type": "code",
   "execution_count": 2,
   "metadata": {},
   "outputs": [],
   "source": [
    "sys.path.append('../')\n"
   ]
  },
  {
   "cell_type": "code",
   "execution_count": 3,
   "metadata": {},
   "outputs": [],
   "source": [
    "# From random_strategy import vaccination_strategy\n",
    "from utils import SIR, run\n",
    "from vaccination_strategy.random_strategy import vaccination_strategy"
   ]
  },
  {
   "cell_type": "code",
   "execution_count": 4,
   "metadata": {},
   "outputs": [],
   "source": [
    "metadata = pd.read_csv('../metadata.csv', sep='\\t', lineterminator='\\n', names=['ID', 'Class', 'Sex'])\n",
    "df = pd.read_csv('../contact_network.csv')"
   ]
  },
  {
   "cell_type": "code",
   "execution_count": 5,
   "metadata": {},
   "outputs": [],
   "source": [
    "model = SIR(\n",
    "    metadata=metadata,\n",
    "    df=df\n",
    ")"
   ]
  },
  {
   "cell_type": "code",
   "execution_count": 6,
   "metadata": {},
   "outputs": [],
   "source": [
    "vaccinated = vaccination_strategy(model)"
   ]
  },
  {
   "cell_type": "code",
   "execution_count": 7,
   "metadata": {},
   "outputs": [
    {
     "name": "stdout",
     "output_type": "stream",
     "text": [
      "At day 0\n",
      "Number of susceptible:  230\n",
      "Number of infected:  12\n",
      "Number of recovered:  0\n",
      "After Day  1\n",
      "Number of susceptible:  191\n",
      "Number of infected:  48\n",
      "Number of recovered:  3\n",
      "After Day  2\n",
      "Number of susceptible:  153\n",
      "Number of infected:  72\n",
      "Number of recovered:  17\n",
      "After Day  3\n",
      "Number of susceptible:  132\n",
      "Number of infected:  72\n",
      "Number of recovered:  38\n",
      "After Day  4\n",
      "Number of susceptible:  89\n",
      "Number of infected:  94\n",
      "Number of recovered:  59\n",
      "After Day  5\n",
      "Number of susceptible:  49\n",
      "Number of infected:  77\n",
      "Number of recovered:  116\n",
      "After Day  6\n",
      "Number of susceptible:  24\n",
      "Number of infected:  79\n",
      "Number of recovered:  139\n",
      "After Day  7\n",
      "Number of susceptible:  24\n",
      "Number of infected:  56\n",
      "Number of recovered:  162\n",
      "After Day  8\n",
      "Number of susceptible:  23\n",
      "Number of infected:  41\n",
      "Number of recovered:  178\n",
      "After Day  9\n",
      "Number of susceptible:  22\n",
      "Number of infected:  30\n",
      "Number of recovered:  190\n",
      "After Day  10\n",
      "Number of susceptible:  21\n",
      "Number of infected:  22\n",
      "Number of recovered:  199\n",
      "After Day  11\n",
      "Number of susceptible:  21\n",
      "Number of infected:  16\n",
      "Number of recovered:  205\n",
      "After Day  12\n",
      "Number of susceptible:  17\n",
      "Number of infected:  16\n",
      "Number of recovered:  209\n",
      "After Day  13\n",
      "Number of susceptible:  17\n",
      "Number of infected:  12\n",
      "Number of recovered:  213\n",
      "After Day  14\n",
      "Number of susceptible:  17\n",
      "Number of infected:  9\n",
      "Number of recovered:  216\n",
      "After Day  15\n",
      "Number of susceptible:  17\n",
      "Number of infected:  7\n",
      "Number of recovered:  218\n",
      "After Day  16\n",
      "Number of susceptible:  17\n",
      "Number of infected:  5\n",
      "Number of recovered:  220\n",
      "After Day  17\n",
      "Number of susceptible:  16\n",
      "Number of infected:  5\n",
      "Number of recovered:  221\n",
      "After Day  18\n",
      "Number of susceptible:  12\n",
      "Number of infected:  8\n",
      "Number of recovered:  222\n",
      "After Day  19\n",
      "Number of susceptible:  12\n",
      "Number of infected:  6\n",
      "Number of recovered:  224\n",
      "After Day  20\n",
      "Number of susceptible:  12\n",
      "Number of infected:  5\n",
      "Number of recovered:  225\n",
      "After Day  21\n",
      "Number of susceptible:  12\n",
      "Number of infected:  4\n",
      "Number of recovered:  226\n",
      "After Day  22\n",
      "Number of susceptible:  12\n",
      "Number of infected:  3\n",
      "Number of recovered:  227\n",
      "After Day  23\n",
      "Number of susceptible:  12\n",
      "Number of infected:  3\n",
      "Number of recovered:  227\n",
      "After Day  24\n",
      "Number of susceptible:  12\n",
      "Number of infected:  3\n",
      "Number of recovered:  227\n",
      "After Day  25\n",
      "Number of susceptible:  12\n",
      "Number of infected:  3\n",
      "Number of recovered:  227\n",
      "After Day  26\n",
      "Number of susceptible:  12\n",
      "Number of infected:  3\n",
      "Number of recovered:  227\n",
      "After Day  27\n",
      "Number of susceptible:  11\n",
      "Number of infected:  4\n",
      "Number of recovered:  227\n",
      "After Day  28\n",
      "Number of susceptible:  11\n",
      "Number of infected:  3\n",
      "Number of recovered:  228\n",
      "After Day  29\n",
      "Number of susceptible:  11\n",
      "Number of infected:  3\n",
      "Number of recovered:  228\n",
      "After Day  30\n",
      "Number of susceptible:  11\n",
      "Number of infected:  3\n",
      "Number of recovered:  228\n"
     ]
    }
   ],
   "source": [
    "run(model,vaccinated,5)"
   ]
  }
 ],
 "metadata": {
  "kernelspec": {
   "display_name": "Python 3",
   "language": "python",
   "name": "python3"
  },
  "language_info": {
   "codemirror_mode": {
    "name": "ipython",
    "version": 3
   },
   "file_extension": ".py",
   "mimetype": "text/x-python",
   "name": "python",
   "nbconvert_exporter": "python",
   "pygments_lexer": "ipython3",
   "version": "3.10.0"
  }
 },
 "nbformat": 4,
 "nbformat_minor": 4
}
